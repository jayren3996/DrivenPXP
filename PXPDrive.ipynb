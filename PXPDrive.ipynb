{
 "cells": [
  {
   "attachments": {},
   "cell_type": "markdown",
   "id": "dc35b90e",
   "metadata": {},
   "source": [
    "# Driven PXP Mode"
   ]
  },
  {
   "attachments": {},
   "cell_type": "markdown",
   "id": "7c837504",
   "metadata": {},
   "source": [
    "We will use the `Optim.jl` package for auto-diff optimization, and the `EDKit.jl` for exact diagonalization calculation."
   ]
  },
  {
   "cell_type": "code",
   "execution_count": 1,
   "id": "21dfb4bd",
   "metadata": {},
   "outputs": [],
   "source": [
    "using EDKit, LinearAlgebra, Optim"
   ]
  },
  {
   "cell_type": "code",
   "execution_count": 2,
   "id": "4d52c64f",
   "metadata": {},
   "outputs": [],
   "source": [
    "const L = 20\n",
    "const dt = 0.05\n",
    "\n",
    "# Evolution Ue for even-paraty sector\n",
    "const evo1 = begin\n",
    "    pxpf(v) = all(v[i]==1 || v[mod(i, length(v))+1]==1 for i in eachindex(v))\n",
    "    B1 = TranslationParityBasis(f=pxpf, L=L, k=0, p=1)\n",
    "    P = [0 0; 0 1]\n",
    "    PXP = kron(P, spin(\"X\"), P)\n",
    "    H0 = trans_inv_operator(PXP, 1:3, B1)\n",
    "    E1, V1 = eigen(Hermitian(H0))\n",
    "    V1 * Diagonal(exp.(-1im * dt * E1)) * V1'\n",
    "end;\n",
    "\n",
    "# Evolution Uo for odd-paraty sector\n",
    "const evo2 = begin\n",
    "    B2 = TranslationParityBasis(f=pxpf, L=L, k=L÷2, p=-1)\n",
    "    H0 = trans_inv_operator(PXP, 1:3, B2)\n",
    "    E2, V2 = eigen(Hermitian(H0))\n",
    "    V2 * Diagonal(exp.(-1im * dt * E2)) * V2'\n",
    "end;"
   ]
  },
  {
   "cell_type": "code",
   "execution_count": 3,
   "id": "5e95fbcc",
   "metadata": {},
   "outputs": [
    {
     "data": {
      "text/plain": [
       "fidelity"
      ]
     },
     "metadata": {},
     "output_type": "display_data"
    }
   ],
   "source": [
    "const SN1 = trans_inv_operator([1 0;0 0], 1, B1) |> Array |> diag\n",
    "const SN2 = trans_inv_operator([1 0;0 0], 1, B2) |> Array |> diag\n",
    "const V01, V02 = vcat(1, zeros(size(B1,1)-1)), vcat(1, zeros(size(B2,1)-1))\n",
    "\"\"\"\n",
    "Δ = Δ₀ + Δ₁ cos(ωt) + Δ₂ cos(2ωt) + Δ₃ cos(3ωt) + Δ₄ cos(4ωt)\n",
    "\"\"\"\n",
    "function fidelity(params, T=100)\n",
    "    v1, v2 = V01, V02\n",
    "    N = round(Int, T/dt)\n",
    "    map(1:N) do i\n",
    "        f = params[2] \n",
    "        f += params[3] * cos(params[1] * i * dt) \n",
    "        f += params[4] * cos(params[1] * 2i * dt) \n",
    "        f += params[5] * cos(params[1] * 3i * dt) \n",
    "        f += params[6] * cos(params[1] * 4i * dt)\n",
    "        v1 = exp.(-f*SN1*dt*1im) .* (evo1 * v1) \n",
    "        v2 = exp.(-f*SN2*dt*1im) .* (evo2 * v2) \n",
    "        abs(dot(V01, v1)+dot(V02, v2))^2 / 4\n",
    "    end\n",
    "end;"
   ]
  },
  {
   "cell_type": "code",
   "execution_count": 4,
   "id": "8ff89da7",
   "metadata": {},
   "outputs": [
    {
     "data": {
      "text/plain": [
       "loss (generic function with 1 method)"
      ]
     },
     "metadata": {},
     "output_type": "display_data"
    }
   ],
   "source": [
    "T=100\n",
    "function loss(params)\n",
    "    period = 2π/params[1]\n",
    "    F = fidelity(params, T)\n",
    "    M = floor(Int, T/(2*period))\n",
    "    out = 1.0\n",
    "    for i in 1:M \n",
    "        j1 = round(Int, 2i*period/dt) \n",
    "        j2 = round(Int, (2i-1)*period/dt)\n",
    "        out -= (F[j1] - F[j2])/M\n",
    "    end \n",
    "    out\n",
    "end;"
   ]
  },
  {
   "cell_type": "code",
   "execution_count": 5,
   "id": "94795ecc",
   "metadata": {},
   "outputs": [
    {
     "data": {
      "text/plain": [
       "6-element Vector{Float64}:\n",
       "  2.712188250074131\n",
       "  1.244658202348191\n",
       "  3.0357165151222536\n",
       "  1.628636337215439\n",
       "  5.04015853467762\n",
       " -6.719927850497436"
      ]
     },
     "metadata": {},
     "output_type": "display_data"
    }
   ],
   "source": [
    "init_p = [2.72, 1.15, 2.67, 0., 0., 0.]\n",
    "# The optimization code is:\n",
    "# res = optimize(loss, init_p, BFGS(); autodiff = :forward).minimizer\n",
    "# The following is the result:\n",
    "res = [2.712188250074131, 1.244658202348191, 3.0357165151222536, 1.628636337215439, 5.04015853467762, -6.719927850497436]"
   ]
  },
  {
   "attachments": {},
   "cell_type": "markdown",
   "id": "dd954177",
   "metadata": {},
   "source": [
    "## Results"
   ]
  },
  {
   "cell_type": "code",
   "execution_count": 6,
   "id": "8c35ffc5",
   "metadata": {},
   "outputs": [
    {
     "name": "stdout",
     "output_type": "stream",
     "text": [
      "Loss function for 1st-order drive: 0.05736331207152438\n"
     ]
    },
    {
     "name": "stdout",
     "output_type": "stream",
     "text": [
      "Loss function for 4th-order drive: 0.005601266360870383\n"
     ]
    }
   ],
   "source": [
    "println(\"Loss function for 1st-order drive: $(loss(init_p))\")\n",
    "println(\"Loss function for 4th-order drive: $(loss(res))\", )"
   ]
  },
  {
   "cell_type": "code",
   "execution_count": 7,
   "id": "6847807a",
   "metadata": {},
   "outputs": [
    {
     "name": "stdout",
     "output_type": "stream",
     "text": []
    }
   ],
   "source": [
    "using Plots\n",
    "t = 0:0.05:100\n",
    "F0 = fidelity(zeros(6))\n",
    "F1 = fidelity(init_p)\n",
    "F4 = fidelity(res)\n",
    "plot(t, F4, linewidth=1, label=\"4th\")\n",
    "plot!(t, F1, linewidth=2, label=\"1st\")\n",
    "plot!(t, F0, linewidth=4, label=\"PXP\")"
   ]
  }
 ],
 "metadata": {
  "kernelspec": {
   "display_name": "Julia 1.8.5",
   "language": "julia",
   "name": "julia-1.8"
  },
  "language_info": {
   "file_extension": ".jl",
   "mimetype": "application/julia",
   "name": "julia",
   "version": "1.8.5"
  }
 },
 "nbformat": 4,
 "nbformat_minor": 5
}
